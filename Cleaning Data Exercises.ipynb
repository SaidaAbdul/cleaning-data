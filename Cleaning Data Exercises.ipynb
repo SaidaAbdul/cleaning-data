{
 "cells": [
  {
   "cell_type": "markdown",
   "id": "1c5ab710",
   "metadata": {},
   "source": [
    "# Cleaning Data Exercises\n",
    "\n",
    "For the exercises, you will be cleaning data in your chosen data set. [Towards Data Science](https://towardsdatascience.com/data-cleaning-in-python-the-ultimate-guide-2020-c63b88bf0a0d) outlines the steps we should take to clean data using a different data set from Kaggle. While you should use this article as a reference, make sure not to copy paste as the two data sets are very different!\n",
    "\n",
    "To start cleaning data, we first need to create a dataframe from the CSV and print out any relevant info to make sure our dataframe is ready to go."
   ]
  },
  {
   "cell_type": "code",
   "execution_count": 28,
   "id": "da3513e0",
   "metadata": {},
   "outputs": [],
   "source": [
    "# Import pandas and any other libraries you need here. HINT: Check out the article to see what they imported to get started!\n",
    "import pandas as pd\n",
    "import matplotlib.pyplot as plt\n",
    "import seaborn as sns\n",
    "import numpy as np\n",
    "\n",
    "# Create a new dataframe from your CSV\n",
    "df = pd.read_csv('Rat_Sightings.csv')"
   ]
  },
  {
   "cell_type": "code",
   "execution_count": 2,
   "id": "045387eb",
   "metadata": {
    "scrolled": true
   },
   "outputs": [
    {
     "data": {
      "text/html": [
       "<div>\n",
       "<style scoped>\n",
       "    .dataframe tbody tr th:only-of-type {\n",
       "        vertical-align: middle;\n",
       "    }\n",
       "\n",
       "    .dataframe tbody tr th {\n",
       "        vertical-align: top;\n",
       "    }\n",
       "\n",
       "    .dataframe thead th {\n",
       "        text-align: right;\n",
       "    }\n",
       "</style>\n",
       "<table border=\"1\" class=\"dataframe\">\n",
       "  <thead>\n",
       "    <tr style=\"text-align: right;\">\n",
       "      <th></th>\n",
       "      <th>Unique Key</th>\n",
       "      <th>Created Date</th>\n",
       "      <th>Closed Date</th>\n",
       "      <th>Agency</th>\n",
       "      <th>Agency Name</th>\n",
       "      <th>Complaint Type</th>\n",
       "      <th>Descriptor</th>\n",
       "      <th>Location Type</th>\n",
       "      <th>Incident Zip</th>\n",
       "      <th>Incident Address</th>\n",
       "      <th>...</th>\n",
       "      <th>Bridge Highway Name</th>\n",
       "      <th>Bridge Highway Direction</th>\n",
       "      <th>Road Ramp</th>\n",
       "      <th>Bridge Highway Segment</th>\n",
       "      <th>Garage Lot Name</th>\n",
       "      <th>Ferry Direction</th>\n",
       "      <th>Ferry Terminal Name</th>\n",
       "      <th>Latitude</th>\n",
       "      <th>Longitude</th>\n",
       "      <th>Location</th>\n",
       "    </tr>\n",
       "  </thead>\n",
       "  <tbody>\n",
       "    <tr>\n",
       "      <th>0</th>\n",
       "      <td>31464015</td>\n",
       "      <td>09/04/2015 12:00:00 AM</td>\n",
       "      <td>09/18/2015 12:00:00 AM</td>\n",
       "      <td>DOHMH</td>\n",
       "      <td>Department of Health and Mental Hygiene</td>\n",
       "      <td>Rodent</td>\n",
       "      <td>Rat Sighting</td>\n",
       "      <td>3+ Family Mixed Use Building</td>\n",
       "      <td>10006.0</td>\n",
       "      <td>NaN</td>\n",
       "      <td>...</td>\n",
       "      <td>NaN</td>\n",
       "      <td>NaN</td>\n",
       "      <td>NaN</td>\n",
       "      <td>NaN</td>\n",
       "      <td>NaN</td>\n",
       "      <td>NaN</td>\n",
       "      <td>NaN</td>\n",
       "      <td>40.707772</td>\n",
       "      <td>-74.012963</td>\n",
       "      <td>(40.70777155363643, -74.01296309970473)</td>\n",
       "    </tr>\n",
       "    <tr>\n",
       "      <th>1</th>\n",
       "      <td>31464024</td>\n",
       "      <td>09/04/2015 12:00:00 AM</td>\n",
       "      <td>10/28/2015 12:00:00 AM</td>\n",
       "      <td>DOHMH</td>\n",
       "      <td>Department of Health and Mental Hygiene</td>\n",
       "      <td>Rodent</td>\n",
       "      <td>Rat Sighting</td>\n",
       "      <td>Commercial Building</td>\n",
       "      <td>10306.0</td>\n",
       "      <td>2270 HYLAN BOULEVARD</td>\n",
       "      <td>...</td>\n",
       "      <td>NaN</td>\n",
       "      <td>NaN</td>\n",
       "      <td>NaN</td>\n",
       "      <td>NaN</td>\n",
       "      <td>NaN</td>\n",
       "      <td>NaN</td>\n",
       "      <td>NaN</td>\n",
       "      <td>40.575209</td>\n",
       "      <td>-74.104547</td>\n",
       "      <td>(40.575209242947444, -74.1045465185469)</td>\n",
       "    </tr>\n",
       "    <tr>\n",
       "      <th>2</th>\n",
       "      <td>31464025</td>\n",
       "      <td>09/04/2015 12:00:00 AM</td>\n",
       "      <td>NaN</td>\n",
       "      <td>DOHMH</td>\n",
       "      <td>Department of Health and Mental Hygiene</td>\n",
       "      <td>Rodent</td>\n",
       "      <td>Rat Sighting</td>\n",
       "      <td>1-2 Family Dwelling</td>\n",
       "      <td>10310.0</td>\n",
       "      <td>758 POST AVENUE</td>\n",
       "      <td>...</td>\n",
       "      <td>NaN</td>\n",
       "      <td>NaN</td>\n",
       "      <td>NaN</td>\n",
       "      <td>NaN</td>\n",
       "      <td>NaN</td>\n",
       "      <td>NaN</td>\n",
       "      <td>NaN</td>\n",
       "      <td>40.631236</td>\n",
       "      <td>-74.126878</td>\n",
       "      <td>(40.63123555151668, -74.12687759748677)</td>\n",
       "    </tr>\n",
       "    <tr>\n",
       "      <th>3</th>\n",
       "      <td>31464026</td>\n",
       "      <td>09/04/2015 12:00:00 AM</td>\n",
       "      <td>09/14/2015 12:00:00 AM</td>\n",
       "      <td>DOHMH</td>\n",
       "      <td>Department of Health and Mental Hygiene</td>\n",
       "      <td>Rodent</td>\n",
       "      <td>Rat Sighting</td>\n",
       "      <td>3+ Family Apt. Building</td>\n",
       "      <td>11206.0</td>\n",
       "      <td>198 SCHOLES STREET</td>\n",
       "      <td>...</td>\n",
       "      <td>NaN</td>\n",
       "      <td>NaN</td>\n",
       "      <td>NaN</td>\n",
       "      <td>NaN</td>\n",
       "      <td>NaN</td>\n",
       "      <td>NaN</td>\n",
       "      <td>NaN</td>\n",
       "      <td>40.708987</td>\n",
       "      <td>-73.941207</td>\n",
       "      <td>(40.70898692345805, -73.94120690238431)</td>\n",
       "    </tr>\n",
       "    <tr>\n",
       "      <th>4</th>\n",
       "      <td>31464027</td>\n",
       "      <td>09/04/2015 12:00:00 AM</td>\n",
       "      <td>09/22/2015 12:00:00 AM</td>\n",
       "      <td>DOHMH</td>\n",
       "      <td>Department of Health and Mental Hygiene</td>\n",
       "      <td>Rodent</td>\n",
       "      <td>Rat Sighting</td>\n",
       "      <td>3+ Family Mixed Use Building</td>\n",
       "      <td>10462.0</td>\n",
       "      <td>2138 WALLACE AVENUE</td>\n",
       "      <td>...</td>\n",
       "      <td>NaN</td>\n",
       "      <td>NaN</td>\n",
       "      <td>NaN</td>\n",
       "      <td>NaN</td>\n",
       "      <td>NaN</td>\n",
       "      <td>NaN</td>\n",
       "      <td>NaN</td>\n",
       "      <td>40.854130</td>\n",
       "      <td>-73.864813</td>\n",
       "      <td>(40.85413014360452, -73.86481331044513)</td>\n",
       "    </tr>\n",
       "  </tbody>\n",
       "</table>\n",
       "<p>5 rows × 52 columns</p>\n",
       "</div>"
      ],
      "text/plain": [
       "   Unique Key            Created Date             Closed Date Agency  \\\n",
       "0    31464015  09/04/2015 12:00:00 AM  09/18/2015 12:00:00 AM  DOHMH   \n",
       "1    31464024  09/04/2015 12:00:00 AM  10/28/2015 12:00:00 AM  DOHMH   \n",
       "2    31464025  09/04/2015 12:00:00 AM                     NaN  DOHMH   \n",
       "3    31464026  09/04/2015 12:00:00 AM  09/14/2015 12:00:00 AM  DOHMH   \n",
       "4    31464027  09/04/2015 12:00:00 AM  09/22/2015 12:00:00 AM  DOHMH   \n",
       "\n",
       "                               Agency Name Complaint Type    Descriptor  \\\n",
       "0  Department of Health and Mental Hygiene         Rodent  Rat Sighting   \n",
       "1  Department of Health and Mental Hygiene         Rodent  Rat Sighting   \n",
       "2  Department of Health and Mental Hygiene         Rodent  Rat Sighting   \n",
       "3  Department of Health and Mental Hygiene         Rodent  Rat Sighting   \n",
       "4  Department of Health and Mental Hygiene         Rodent  Rat Sighting   \n",
       "\n",
       "                  Location Type  Incident Zip      Incident Address  ...  \\\n",
       "0  3+ Family Mixed Use Building       10006.0                   NaN  ...   \n",
       "1           Commercial Building       10306.0  2270 HYLAN BOULEVARD  ...   \n",
       "2           1-2 Family Dwelling       10310.0       758 POST AVENUE  ...   \n",
       "3       3+ Family Apt. Building       11206.0    198 SCHOLES STREET  ...   \n",
       "4  3+ Family Mixed Use Building       10462.0   2138 WALLACE AVENUE  ...   \n",
       "\n",
       "  Bridge Highway Name Bridge Highway Direction Road Ramp  \\\n",
       "0                 NaN                      NaN       NaN   \n",
       "1                 NaN                      NaN       NaN   \n",
       "2                 NaN                      NaN       NaN   \n",
       "3                 NaN                      NaN       NaN   \n",
       "4                 NaN                      NaN       NaN   \n",
       "\n",
       "  Bridge Highway Segment Garage Lot Name Ferry Direction Ferry Terminal Name  \\\n",
       "0                    NaN             NaN             NaN                 NaN   \n",
       "1                    NaN             NaN             NaN                 NaN   \n",
       "2                    NaN             NaN             NaN                 NaN   \n",
       "3                    NaN             NaN             NaN                 NaN   \n",
       "4                    NaN             NaN             NaN                 NaN   \n",
       "\n",
       "    Latitude  Longitude                                 Location  \n",
       "0  40.707772 -74.012963  (40.70777155363643, -74.01296309970473)  \n",
       "1  40.575209 -74.104547  (40.575209242947444, -74.1045465185469)  \n",
       "2  40.631236 -74.126878  (40.63123555151668, -74.12687759748677)  \n",
       "3  40.708987 -73.941207  (40.70898692345805, -73.94120690238431)  \n",
       "4  40.854130 -73.864813  (40.85413014360452, -73.86481331044513)  \n",
       "\n",
       "[5 rows x 52 columns]"
      ]
     },
     "execution_count": 2,
     "metadata": {},
     "output_type": "execute_result"
    }
   ],
   "source": [
    "# Print out any information you need to understand your dataframe\n",
    "df.head()"
   ]
  },
  {
   "cell_type": "code",
   "execution_count": 3,
   "id": "20ad6ea4",
   "metadata": {},
   "outputs": [
    {
     "data": {
      "text/html": [
       "<div>\n",
       "<style scoped>\n",
       "    .dataframe tbody tr th:only-of-type {\n",
       "        vertical-align: middle;\n",
       "    }\n",
       "\n",
       "    .dataframe tbody tr th {\n",
       "        vertical-align: top;\n",
       "    }\n",
       "\n",
       "    .dataframe thead th {\n",
       "        text-align: right;\n",
       "    }\n",
       "</style>\n",
       "<table border=\"1\" class=\"dataframe\">\n",
       "  <thead>\n",
       "    <tr style=\"text-align: right;\">\n",
       "      <th></th>\n",
       "      <th>Unique Key</th>\n",
       "      <th>Incident Zip</th>\n",
       "      <th>Facility Type</th>\n",
       "      <th>X Coordinate (State Plane)</th>\n",
       "      <th>Y Coordinate (State Plane)</th>\n",
       "      <th>School or Citywide Complaint</th>\n",
       "      <th>Vehicle Type</th>\n",
       "      <th>Taxi Company Borough</th>\n",
       "      <th>Taxi Pick Up Location</th>\n",
       "      <th>Bridge Highway Name</th>\n",
       "      <th>Bridge Highway Direction</th>\n",
       "      <th>Road Ramp</th>\n",
       "      <th>Bridge Highway Segment</th>\n",
       "      <th>Garage Lot Name</th>\n",
       "      <th>Ferry Direction</th>\n",
       "      <th>Ferry Terminal Name</th>\n",
       "      <th>Latitude</th>\n",
       "      <th>Longitude</th>\n",
       "    </tr>\n",
       "  </thead>\n",
       "  <tbody>\n",
       "    <tr>\n",
       "      <th>count</th>\n",
       "      <td>1.019140e+05</td>\n",
       "      <td>101578.000000</td>\n",
       "      <td>0.0</td>\n",
       "      <td>1.012080e+05</td>\n",
       "      <td>101208.000000</td>\n",
       "      <td>0.0</td>\n",
       "      <td>0.0</td>\n",
       "      <td>0.0</td>\n",
       "      <td>0.0</td>\n",
       "      <td>0.0</td>\n",
       "      <td>0.0</td>\n",
       "      <td>0.0</td>\n",
       "      <td>0.0</td>\n",
       "      <td>0.0</td>\n",
       "      <td>0.0</td>\n",
       "      <td>0.0</td>\n",
       "      <td>101208.000000</td>\n",
       "      <td>101208.000000</td>\n",
       "    </tr>\n",
       "    <tr>\n",
       "      <th>mean</th>\n",
       "      <td>2.815864e+07</td>\n",
       "      <td>10728.680895</td>\n",
       "      <td>NaN</td>\n",
       "      <td>1.002473e+06</td>\n",
       "      <td>208639.988953</td>\n",
       "      <td>NaN</td>\n",
       "      <td>NaN</td>\n",
       "      <td>NaN</td>\n",
       "      <td>NaN</td>\n",
       "      <td>NaN</td>\n",
       "      <td>NaN</td>\n",
       "      <td>NaN</td>\n",
       "      <td>NaN</td>\n",
       "      <td>NaN</td>\n",
       "      <td>NaN</td>\n",
       "      <td>NaN</td>\n",
       "      <td>40.739304</td>\n",
       "      <td>-73.934206</td>\n",
       "    </tr>\n",
       "    <tr>\n",
       "      <th>std</th>\n",
       "      <td>6.015376e+06</td>\n",
       "      <td>631.206648</td>\n",
       "      <td>NaN</td>\n",
       "      <td>1.958043e+04</td>\n",
       "      <td>29956.193531</td>\n",
       "      <td>NaN</td>\n",
       "      <td>NaN</td>\n",
       "      <td>NaN</td>\n",
       "      <td>NaN</td>\n",
       "      <td>NaN</td>\n",
       "      <td>NaN</td>\n",
       "      <td>NaN</td>\n",
       "      <td>NaN</td>\n",
       "      <td>NaN</td>\n",
       "      <td>NaN</td>\n",
       "      <td>NaN</td>\n",
       "      <td>0.082224</td>\n",
       "      <td>0.070617</td>\n",
       "    </tr>\n",
       "    <tr>\n",
       "      <th>min</th>\n",
       "      <td>1.146439e+07</td>\n",
       "      <td>83.000000</td>\n",
       "      <td>NaN</td>\n",
       "      <td>9.134950e+05</td>\n",
       "      <td>121350.000000</td>\n",
       "      <td>NaN</td>\n",
       "      <td>NaN</td>\n",
       "      <td>NaN</td>\n",
       "      <td>NaN</td>\n",
       "      <td>NaN</td>\n",
       "      <td>NaN</td>\n",
       "      <td>NaN</td>\n",
       "      <td>NaN</td>\n",
       "      <td>NaN</td>\n",
       "      <td>NaN</td>\n",
       "      <td>NaN</td>\n",
       "      <td>40.499502</td>\n",
       "      <td>-74.254437</td>\n",
       "    </tr>\n",
       "    <tr>\n",
       "      <th>25%</th>\n",
       "      <td>2.341452e+07</td>\n",
       "      <td>10086.250000</td>\n",
       "      <td>NaN</td>\n",
       "      <td>9.936100e+05</td>\n",
       "      <td>186934.000000</td>\n",
       "      <td>NaN</td>\n",
       "      <td>NaN</td>\n",
       "      <td>NaN</td>\n",
       "      <td>NaN</td>\n",
       "      <td>NaN</td>\n",
       "      <td>NaN</td>\n",
       "      <td>NaN</td>\n",
       "      <td>NaN</td>\n",
       "      <td>NaN</td>\n",
       "      <td>NaN</td>\n",
       "      <td>NaN</td>\n",
       "      <td>40.679740</td>\n",
       "      <td>-73.966216</td>\n",
       "    </tr>\n",
       "    <tr>\n",
       "      <th>50%</th>\n",
       "      <td>2.883680e+07</td>\n",
       "      <td>10472.000000</td>\n",
       "      <td>NaN</td>\n",
       "      <td>1.001398e+06</td>\n",
       "      <td>203425.500000</td>\n",
       "      <td>NaN</td>\n",
       "      <td>NaN</td>\n",
       "      <td>NaN</td>\n",
       "      <td>NaN</td>\n",
       "      <td>NaN</td>\n",
       "      <td>NaN</td>\n",
       "      <td>NaN</td>\n",
       "      <td>NaN</td>\n",
       "      <td>NaN</td>\n",
       "      <td>NaN</td>\n",
       "      <td>NaN</td>\n",
       "      <td>40.725009</td>\n",
       "      <td>-73.938112</td>\n",
       "    </tr>\n",
       "    <tr>\n",
       "      <th>75%</th>\n",
       "      <td>3.346014e+07</td>\n",
       "      <td>11222.000000</td>\n",
       "      <td>NaN</td>\n",
       "      <td>1.011951e+06</td>\n",
       "      <td>236364.000000</td>\n",
       "      <td>NaN</td>\n",
       "      <td>NaN</td>\n",
       "      <td>NaN</td>\n",
       "      <td>NaN</td>\n",
       "      <td>NaN</td>\n",
       "      <td>NaN</td>\n",
       "      <td>NaN</td>\n",
       "      <td>NaN</td>\n",
       "      <td>NaN</td>\n",
       "      <td>NaN</td>\n",
       "      <td>NaN</td>\n",
       "      <td>40.815428</td>\n",
       "      <td>-73.899963</td>\n",
       "    </tr>\n",
       "    <tr>\n",
       "      <th>max</th>\n",
       "      <td>3.719700e+07</td>\n",
       "      <td>100354.000000</td>\n",
       "      <td>NaN</td>\n",
       "      <td>1.066922e+06</td>\n",
       "      <td>271876.000000</td>\n",
       "      <td>NaN</td>\n",
       "      <td>NaN</td>\n",
       "      <td>NaN</td>\n",
       "      <td>NaN</td>\n",
       "      <td>NaN</td>\n",
       "      <td>NaN</td>\n",
       "      <td>NaN</td>\n",
       "      <td>NaN</td>\n",
       "      <td>NaN</td>\n",
       "      <td>NaN</td>\n",
       "      <td>NaN</td>\n",
       "      <td>40.912869</td>\n",
       "      <td>-73.701632</td>\n",
       "    </tr>\n",
       "  </tbody>\n",
       "</table>\n",
       "</div>"
      ],
      "text/plain": [
       "         Unique Key   Incident Zip  Facility Type  X Coordinate (State Plane)  \\\n",
       "count  1.019140e+05  101578.000000            0.0                1.012080e+05   \n",
       "mean   2.815864e+07   10728.680895            NaN                1.002473e+06   \n",
       "std    6.015376e+06     631.206648            NaN                1.958043e+04   \n",
       "min    1.146439e+07      83.000000            NaN                9.134950e+05   \n",
       "25%    2.341452e+07   10086.250000            NaN                9.936100e+05   \n",
       "50%    2.883680e+07   10472.000000            NaN                1.001398e+06   \n",
       "75%    3.346014e+07   11222.000000            NaN                1.011951e+06   \n",
       "max    3.719700e+07  100354.000000            NaN                1.066922e+06   \n",
       "\n",
       "       Y Coordinate (State Plane)  School or Citywide Complaint  Vehicle Type  \\\n",
       "count               101208.000000                           0.0           0.0   \n",
       "mean                208639.988953                           NaN           NaN   \n",
       "std                  29956.193531                           NaN           NaN   \n",
       "min                 121350.000000                           NaN           NaN   \n",
       "25%                 186934.000000                           NaN           NaN   \n",
       "50%                 203425.500000                           NaN           NaN   \n",
       "75%                 236364.000000                           NaN           NaN   \n",
       "max                 271876.000000                           NaN           NaN   \n",
       "\n",
       "       Taxi Company Borough  Taxi Pick Up Location  Bridge Highway Name  \\\n",
       "count                   0.0                    0.0                  0.0   \n",
       "mean                    NaN                    NaN                  NaN   \n",
       "std                     NaN                    NaN                  NaN   \n",
       "min                     NaN                    NaN                  NaN   \n",
       "25%                     NaN                    NaN                  NaN   \n",
       "50%                     NaN                    NaN                  NaN   \n",
       "75%                     NaN                    NaN                  NaN   \n",
       "max                     NaN                    NaN                  NaN   \n",
       "\n",
       "       Bridge Highway Direction  Road Ramp  Bridge Highway Segment  \\\n",
       "count                       0.0        0.0                     0.0   \n",
       "mean                        NaN        NaN                     NaN   \n",
       "std                         NaN        NaN                     NaN   \n",
       "min                         NaN        NaN                     NaN   \n",
       "25%                         NaN        NaN                     NaN   \n",
       "50%                         NaN        NaN                     NaN   \n",
       "75%                         NaN        NaN                     NaN   \n",
       "max                         NaN        NaN                     NaN   \n",
       "\n",
       "       Garage Lot Name  Ferry Direction  Ferry Terminal Name       Latitude  \\\n",
       "count              0.0              0.0                  0.0  101208.000000   \n",
       "mean               NaN              NaN                  NaN      40.739304   \n",
       "std                NaN              NaN                  NaN       0.082224   \n",
       "min                NaN              NaN                  NaN      40.499502   \n",
       "25%                NaN              NaN                  NaN      40.679740   \n",
       "50%                NaN              NaN                  NaN      40.725009   \n",
       "75%                NaN              NaN                  NaN      40.815428   \n",
       "max                NaN              NaN                  NaN      40.912869   \n",
       "\n",
       "           Longitude  \n",
       "count  101208.000000  \n",
       "mean      -73.934206  \n",
       "std         0.070617  \n",
       "min       -74.254437  \n",
       "25%       -73.966216  \n",
       "50%       -73.938112  \n",
       "75%       -73.899963  \n",
       "max       -73.701632  "
      ]
     },
     "execution_count": 3,
     "metadata": {},
     "output_type": "execute_result"
    }
   ],
   "source": [
    "df.describe()"
   ]
  },
  {
   "cell_type": "code",
   "execution_count": 4,
   "id": "05cea607",
   "metadata": {},
   "outputs": [
    {
     "name": "stdout",
     "output_type": "stream",
     "text": [
      "<class 'pandas.core.frame.DataFrame'>\n",
      "RangeIndex: 101914 entries, 0 to 101913\n",
      "Data columns (total 52 columns):\n",
      " #   Column                          Non-Null Count   Dtype  \n",
      "---  ------                          --------------   -----  \n",
      " 0   Unique Key                      101914 non-null  int64  \n",
      " 1   Created Date                    101914 non-null  object \n",
      " 2   Closed Date                     90983 non-null   object \n",
      " 3   Agency                          101914 non-null  object \n",
      " 4   Agency Name                     101914 non-null  object \n",
      " 5   Complaint Type                  101914 non-null  object \n",
      " 6   Descriptor                      101914 non-null  object \n",
      " 7   Location Type                   101908 non-null  object \n",
      " 8   Incident Zip                    101578 non-null  float64\n",
      " 9   Incident Address                92840 non-null   object \n",
      " 10  Street Name                     92839 non-null   object \n",
      " 11  Cross Street 1                  85257 non-null   object \n",
      " 12  Cross Street 2                  85224 non-null   object \n",
      " 13  Intersection Street 1           8925 non-null    object \n",
      " 14  Intersection Street 2           8925 non-null    object \n",
      " 15  Address Type                    101568 non-null  object \n",
      " 16  City                            101572 non-null  object \n",
      " 17  Landmark                        35 non-null      object \n",
      " 18  Facility Type                   0 non-null       float64\n",
      " 19  Status                          101914 non-null  object \n",
      " 20  Due Date                        101797 non-null  object \n",
      " 21  Resolution Action Updated Date  101911 non-null  object \n",
      " 22  Community Board                 101914 non-null  object \n",
      " 23  Borough                         101914 non-null  object \n",
      " 24  X Coordinate (State Plane)      101208 non-null  float64\n",
      " 25  Y Coordinate (State Plane)      101208 non-null  float64\n",
      " 26  Park Facility Name              101914 non-null  object \n",
      " 27  Park Borough                    101914 non-null  object \n",
      " 28  School Name                     101914 non-null  object \n",
      " 29  School Number                   101914 non-null  object \n",
      " 30  School Region                   101914 non-null  object \n",
      " 31  School Code                     101914 non-null  object \n",
      " 32  School Phone Number             101914 non-null  object \n",
      " 33  School Address                  101914 non-null  object \n",
      " 34  School City                     101914 non-null  object \n",
      " 35  School State                    101914 non-null  object \n",
      " 36  School Zip                      101914 non-null  object \n",
      " 37  School Not Found                100997 non-null  object \n",
      " 38  School or Citywide Complaint    0 non-null       float64\n",
      " 39  Vehicle Type                    0 non-null       float64\n",
      " 40  Taxi Company Borough            0 non-null       float64\n",
      " 41  Taxi Pick Up Location           0 non-null       float64\n",
      " 42  Bridge Highway Name             0 non-null       float64\n",
      " 43  Bridge Highway Direction        0 non-null       float64\n",
      " 44  Road Ramp                       0 non-null       float64\n",
      " 45  Bridge Highway Segment          0 non-null       float64\n",
      " 46  Garage Lot Name                 0 non-null       float64\n",
      " 47  Ferry Direction                 0 non-null       float64\n",
      " 48  Ferry Terminal Name             0 non-null       float64\n",
      " 49  Latitude                        101208 non-null  float64\n",
      " 50  Longitude                       101208 non-null  float64\n",
      " 51  Location                        101208 non-null  object \n",
      "dtypes: float64(17), int64(1), object(34)\n",
      "memory usage: 40.4+ MB\n"
     ]
    }
   ],
   "source": [
    "df.info()"
   ]
  },
  {
   "cell_type": "markdown",
   "id": "81717993",
   "metadata": {},
   "source": [
    "Now you have a dataframe set up, you are ready to dive in and start cleaning!"
   ]
  },
  {
   "cell_type": "markdown",
   "id": "303aee35",
   "metadata": {},
   "source": [
    "## Missing Data\n",
    "\n",
    "In the Towards Data Science article, they list 3 techniques for detecting any missing data frame. Try all three before deciding on a way to solve any missing data issues."
   ]
  },
  {
   "cell_type": "code",
   "execution_count": 5,
   "id": "68fd548c",
   "metadata": {},
   "outputs": [
    {
     "data": {
      "text/plain": [
       "<AxesSubplot:>"
      ]
     },
     "execution_count": 5,
     "metadata": {},
     "output_type": "execute_result"
    },
    {
     "data": {
      "image/png": "[encoded data removed]",
      "text/plain": [
       "<Figure size 432x288 with 2 Axes>"
      ]
     },
     "metadata": {
      "needs_background": "light"
     },
     "output_type": "display_data"
    }
   ],
   "source": [
    "# Plot a heatmap of any missing data\n",
    "cols = df.columns[:30] # first 30 columns\n",
    "colours = ['#000099', '#ffff00'] # specify the colours - yellow is missing. blue is not missing.\n",
    "sns.heatmap(df[cols].isnull(), cmap=sns.color_palette(colours))"
   ]
  },
  {
   "cell_type": "code",
   "execution_count": 6,
   "id": "0ae37b5d",
   "metadata": {},
   "outputs": [
    {
     "name": "stdout",
     "output_type": "stream",
     "text": [
      "Unique Key - 0%\n",
      "Created Date - 0%\n",
      "Closed Date - 11%\n",
      "Agency - 0%\n",
      "Agency Name - 0%\n",
      "Complaint Type - 0%\n",
      "Descriptor - 0%\n",
      "Location Type - 0%\n",
      "Incident Zip - 0%\n",
      "Incident Address - 9%\n",
      "Street Name - 9%\n",
      "Cross Street 1 - 16%\n",
      "Cross Street 2 - 16%\n",
      "Intersection Street 1 - 91%\n",
      "Intersection Street 2 - 91%\n",
      "Address Type - 0%\n",
      "City - 0%\n",
      "Landmark - 100%\n",
      "Facility Type - 100%\n",
      "Status - 0%\n",
      "Due Date - 0%\n",
      "Resolution Action Updated Date - 0%\n",
      "Community Board - 0%\n",
      "Borough - 0%\n",
      "X Coordinate (State Plane) - 1%\n",
      "Y Coordinate (State Plane) - 1%\n",
      "Park Facility Name - 0%\n",
      "Park Borough - 0%\n",
      "School Name - 0%\n",
      "School Number - 0%\n",
      "School Region - 0%\n",
      "School Code - 0%\n",
      "School Phone Number - 0%\n",
      "School Address - 0%\n",
      "School City - 0%\n",
      "School State - 0%\n",
      "School Zip - 0%\n",
      "School Not Found - 1%\n",
      "School or Citywide Complaint - 100%\n",
      "Vehicle Type - 100%\n",
      "Taxi Company Borough - 100%\n",
      "Taxi Pick Up Location - 100%\n",
      "Bridge Highway Name - 100%\n",
      "Bridge Highway Direction - 100%\n",
      "Road Ramp - 100%\n",
      "Bridge Highway Segment - 100%\n",
      "Garage Lot Name - 100%\n",
      "Ferry Direction - 100%\n",
      "Ferry Terminal Name - 100%\n",
      "Latitude - 1%\n",
      "Longitude - 1%\n",
      "Location - 1%\n"
     ]
    }
   ],
   "source": [
    "# Try out a missing data percentage list! \n",
    "for col in df.columns:\n",
    "    pct_missing = np.mean(df[col].isnull())\n",
    "    print('{} - {}%'.format(col, round(pct_missing*100)))"
   ]
  },
  {
   "cell_type": "code",
   "execution_count": 7,
   "id": "51c62f02",
   "metadata": {},
   "outputs": [
    {
     "name": "stdout",
     "output_type": "stream",
     "text": [
      "created missing indicator for: Closed Date\n",
      "created missing indicator for: Location Type\n",
      "created missing indicator for: Incident Zip\n",
      "created missing indicator for: Incident Address\n",
      "created missing indicator for: Street Name\n",
      "created missing indicator for: Cross Street 1\n",
      "created missing indicator for: Cross Street 2\n",
      "created missing indicator for: Intersection Street 1\n",
      "created missing indicator for: Intersection Street 2\n",
      "created missing indicator for: Address Type\n",
      "created missing indicator for: City\n",
      "created missing indicator for: Landmark\n",
      "created missing indicator for: Facility Type\n",
      "created missing indicator for: Due Date\n",
      "created missing indicator for: Resolution Action Updated Date\n",
      "created missing indicator for: X Coordinate (State Plane)\n",
      "created missing indicator for: Y Coordinate (State Plane)\n",
      "created missing indicator for: School Not Found\n",
      "created missing indicator for: School or Citywide Complaint\n",
      "created missing indicator for: Vehicle Type\n",
      "created missing indicator for: Taxi Company Borough\n",
      "created missing indicator for: Taxi Pick Up Location\n",
      "created missing indicator for: Bridge Highway Name\n",
      "created missing indicator for: Bridge Highway Direction\n",
      "created missing indicator for: Road Ramp\n",
      "created missing indicator for: Bridge Highway Segment\n",
      "created missing indicator for: Garage Lot Name\n",
      "created missing indicator for: Ferry Direction\n",
      "created missing indicator for: Ferry Terminal Name\n",
      "created missing indicator for: Latitude\n",
      "created missing indicator for: Longitude\n",
      "created missing indicator for: Location\n"
     ]
    },
    {
     "data": {
      "text/plain": [
       "<AxesSubplot:xlabel='index'>"
      ]
     },
     "execution_count": 7,
     "metadata": {},
     "output_type": "execute_result"
    },
    {
     "data": {
      "image/png": "[encoded data removed]",
      "text/plain": [
       "<Figure size 432x288 with 1 Axes>"
      ]
     },
     "metadata": {
      "needs_background": "light"
     },
     "output_type": "display_data"
    }
   ],
   "source": [
    "# Plot a missing data histogram\n",
    "for col in df.columns:\n",
    "    missing = df[col].isnull()\n",
    "    num_missing = np.sum(missing)\n",
    "    \n",
    "    if num_missing > 0:  \n",
    "        print('created missing indicator for: {}'.format(col))\n",
    "        df['{}_ismissing'.format(col)] = missing\n",
    "\n",
    "ismissing_cols = [col for col in df.columns if 'ismissing' in col]\n",
    "df['num_missing'] = df[ismissing_cols].sum(axis=1)\n",
    "\n",
    "df['num_missing'].value_counts().reset_index().sort_values(by='index').plot.bar(x='index', y='num_missing')"
   ]
  },
  {
   "cell_type": "markdown",
   "id": "5e791fbe",
   "metadata": {},
   "source": [
    "Now that you have tried all 3 techniques for detecting missing data, did you find any? Reading through the article, which solution do you think will help you clean the data set and handle the missing data? Try out your solution below!"
   ]
  },
  {
   "cell_type": "code",
   "execution_count": null,
   "id": "d361bcb6",
   "metadata": {},
   "outputs": [],
   "source": [
    "# Handle any missing data in your dataframe."
   ]
  },
  {
   "cell_type": "code",
   "execution_count": 34,
   "id": "10f1833d",
   "metadata": {},
   "outputs": [],
   "source": [
    "# Deleting columns that have more than 99% missing data\n",
    "for col in df.columns:\n",
    "    pct_missing = np.mean(df[col].isnull())\n",
    "    if pct_missing > .99:\n",
    "        del df[col]"
   ]
  },
  {
   "cell_type": "code",
   "execution_count": 37,
   "id": "e6c4cf53",
   "metadata": {},
   "outputs": [
    {
     "name": "stdout",
     "output_type": "stream",
     "text": [
      "imputing missing values for: Incident Zip\n",
      "imputing missing values for: X Coordinate (State Plane)\n",
      "imputing missing values for: Y Coordinate (State Plane)\n",
      "imputing missing values for: Latitude\n",
      "imputing missing values for: Longitude\n"
     ]
    }
   ],
   "source": [
    "# impute the missing values and create the missing value indicator variables for each numeric column.\n",
    "df_numeric = df.select_dtypes(include=[np.number])\n",
    "numeric_cols = df_numeric.columns.values\n",
    "\n",
    "for col in numeric_cols:\n",
    "    missing = df[col].isnull()\n",
    "    num_missing = np.sum(missing)\n",
    "    \n",
    "    if num_missing > 0:  # only do the imputation for the columns that have missing values.\n",
    "        print('imputing missing values for: {}'.format(col))\n",
    "        df['{}_ismissing'.format(col)] = missing\n",
    "        med = df[col].median()\n",
    "        df[col] = df[col].fillna(med)"
   ]
  },
  {
   "cell_type": "markdown",
   "id": "be2121df",
   "metadata": {},
   "source": [
    "## Irregular Data\n",
    "\n",
    "With missing data out of the way, turn your attention to any outliers. Just as we did for missing data, we first need to detect the outliers. The article outlines the top techniques for finding outliers in a dataset."
   ]
  },
  {
   "cell_type": "code",
   "execution_count": 41,
   "id": "3a4f2cff",
   "metadata": {},
   "outputs": [
    {
     "data": {
      "text/plain": [
       "<AxesSubplot:>"
      ]
     },
     "execution_count": 41,
     "metadata": {},
     "output_type": "execute_result"
    },
    {
     "data": {
      "image/png": "[encoded data removed]",
      "text/plain": [
       "<Figure size 432x288 with 1 Axes>"
      ]
     },
     "metadata": {
      "needs_background": "light"
     },
     "output_type": "display_data"
    }
   ],
   "source": [
    "# Plot a histogram to see if there are any outliers.\n",
    "df['Incident Zip'].hist()"
   ]
  },
  {
   "cell_type": "code",
   "execution_count": 42,
   "id": "ae9008bb",
   "metadata": {},
   "outputs": [
    {
     "data": {
      "text/plain": [
       "count    101914.000000\n",
       "mean      10727.834645\n",
       "std         630.337026\n",
       "min          83.000000\n",
       "25%       10128.000000\n",
       "50%       10472.000000\n",
       "75%       11222.000000\n",
       "max      100354.000000\n",
       "Name: Incident Zip, dtype: float64"
      ]
     },
     "execution_count": 42,
     "metadata": {},
     "output_type": "execute_result"
    }
   ],
   "source": [
    "# Use the describe() method\n",
    "df['Incident Zip'].describe()"
   ]
  },
  {
   "cell_type": "code",
   "execution_count": 45,
   "id": "4af44edf",
   "metadata": {},
   "outputs": [
    {
     "data": {
      "text/plain": [
       "<AxesSubplot:>"
      ]
     },
     "execution_count": 45,
     "metadata": {},
     "output_type": "execute_result"
    },
    {
     "data": {
      "image/png": "[encoded data removed]",
      "text/plain": [
       "<Figure size 432x288 with 1 Axes>"
      ]
     },
     "metadata": {
      "needs_background": "light"
     },
     "output_type": "display_data"
    }
   ],
   "source": [
    "# Plot a bar chart\n",
    "df['Complaint Type'].value_counts().plot.bar()"
   ]
  },
  {
   "cell_type": "markdown",
   "id": "da8d6080",
   "metadata": {},
   "source": [
    "Which of the three techniques helped you find any outliers? Now that you have found outliers, what will you do to solve the problem?"
   ]
  },
  {
   "cell_type": "code",
   "execution_count": 10,
   "id": "3ee7d694",
   "metadata": {},
   "outputs": [],
   "source": [
    "# Handle any outliers in your dataframe"
   ]
  },
  {
   "cell_type": "markdown",
   "id": "c802522d",
   "metadata": {},
   "source": [
    "## Unnecessary Data\n",
    "\n",
    "Unnecessary data could be duplicates, irrelevant, or any uninformative data. Dive into each type of unnecessary data to see if there is any in the data set. Make sure to make note of how you would handle each type of unnecessary data."
   ]
  },
  {
   "cell_type": "code",
   "execution_count": 44,
   "id": "8de40f50",
   "metadata": {},
   "outputs": [
    {
     "name": "stdout",
     "output_type": "stream",
     "text": [
      "Agency: 100.00000%\n",
      "DOHMH    101914\n",
      "Name: Agency, dtype: int64\n",
      "\n",
      "Agency Name: 100.00000%\n",
      "Department of Health and Mental Hygiene    101914\n",
      "Name: Agency Name, dtype: int64\n",
      "\n",
      "Complaint Type: 100.00000%\n",
      "Rodent    101914\n",
      "Name: Complaint Type, dtype: int64\n",
      "\n",
      "Descriptor: 100.00000%\n",
      "Rat Sighting    101914\n",
      "Name: Descriptor, dtype: int64\n",
      "\n",
      "Park Facility Name: 100.00000%\n",
      "Unspecified    101914\n",
      "Name: Park Facility Name, dtype: int64\n",
      "\n",
      "School Name: 100.00000%\n",
      "Unspecified    101914\n",
      "Name: School Name, dtype: int64\n",
      "\n",
      "School Number: 100.00000%\n",
      "Unspecified    101914\n",
      "Name: School Number, dtype: int64\n",
      "\n",
      "School Region: 100.00000%\n",
      "Unspecified    101914\n",
      "Name: School Region, dtype: int64\n",
      "\n",
      "School Code: 100.00000%\n",
      "Unspecified    101914\n",
      "Name: School Code, dtype: int64\n",
      "\n",
      "School Phone Number: 100.00000%\n",
      "Unspecified    101914\n",
      "Name: School Phone Number, dtype: int64\n",
      "\n",
      "School Address: 100.00000%\n",
      "Unspecified    101914\n",
      "Name: School Address, dtype: int64\n",
      "\n",
      "School City: 100.00000%\n",
      "Unspecified    101914\n",
      "Name: School City, dtype: int64\n",
      "\n",
      "School State: 100.00000%\n",
      "Unspecified    101914\n",
      "Name: School State, dtype: int64\n",
      "\n",
      "School Zip: 100.00000%\n",
      "Unspecified    101914\n",
      "Name: School Zip, dtype: int64\n",
      "\n",
      "School Not Found: 99.10022%\n",
      "N      100997\n",
      "NaN       917\n",
      "Name: School Not Found, dtype: int64\n",
      "\n",
      "Incident Zip_ismissing: 99.67031%\n",
      "False    101578\n",
      "True        336\n",
      "Name: Incident Zip_ismissing, dtype: int64\n",
      "\n",
      "X Coordinate (State Plane)_ismissing: 99.30726%\n",
      "False    101208\n",
      "True        706\n",
      "Name: X Coordinate (State Plane)_ismissing, dtype: int64\n",
      "\n",
      "Y Coordinate (State Plane)_ismissing: 99.30726%\n",
      "False    101208\n",
      "True        706\n",
      "Name: Y Coordinate (State Plane)_ismissing, dtype: int64\n",
      "\n",
      "Latitude_ismissing: 99.30726%\n",
      "False    101208\n",
      "True        706\n",
      "Name: Latitude_ismissing, dtype: int64\n",
      "\n",
      "Longitude_ismissing: 99.30726%\n",
      "False    101208\n",
      "True        706\n",
      "Name: Longitude_ismissing, dtype: int64\n",
      "\n"
     ]
    }
   ],
   "source": [
    "# Look for any irrelevant data in the dataframe. How will you handle it?\n",
    "num_rows = len(df.index)\n",
    "low_information_cols = [] #\n",
    "\n",
    "for col in df.columns:\n",
    "    cnts = df[col].value_counts(dropna=False)\n",
    "    top_pct = (cnts/num_rows).iloc[0]\n",
    "    \n",
    "    if top_pct > 0.95:\n",
    "        low_information_cols.append(col)\n",
    "        print('{0}: {1:.5f}%'.format(col, top_pct*100))\n",
    "        print(cnts)\n",
    "        print()"
   ]
  },
  {
   "cell_type": "code",
   "execution_count": 46,
   "id": "888b49f1",
   "metadata": {},
   "outputs": [
    {
     "name": "stdout",
     "output_type": "stream",
     "text": [
      "(101914, 44)\n",
      "(101912, 43)\n"
     ]
    }
   ],
   "source": [
    "# Look for duplicates. How will you handle any duplicates?\n",
    "\n",
    "df_dedupped = df.drop('Unique Key', axis=1).drop_duplicates()\n",
    "\n",
    "print(df.shape)\n",
    "print(df_dedupped.shape)"
   ]
  },
  {
   "cell_type": "code",
   "execution_count": null,
   "id": "cbd6ee14",
   "metadata": {},
   "outputs": [],
   "source": [
    "# Think about what data in the dataframe may be uninformative. Make note here of what situations may render data uninformative and how you would handle it?"
   ]
  },
  {
   "cell_type": "markdown",
   "id": "bdcad93a",
   "metadata": {},
   "source": [
    "## Inconsistent Data\n",
    "\n",
    "Inconsistent data is anything that messes with your model. This is likely due to inconsistent formatting and can be addressed by re-formatting all values in a column or row."
   ]
  },
  {
   "cell_type": "code",
   "execution_count": 47,
   "id": "4fc6bbb7",
   "metadata": {},
   "outputs": [
    {
     "data": {
      "text/plain": [
       "NaN                         9074\n",
       "2131 wallace avenue          186\n",
       "95 eastern parkway           176\n",
       "651 brooklyn avenue          127\n",
       "2486 davidson ave             88\n",
       "                            ... \n",
       "3312 perry ave                 1\n",
       "227a malcolm x boulevard       1\n",
       "550 throop avenue              1\n",
       "627 blake avenue               1\n",
       "1730 bay ridge parkway         1\n",
       "Name: Incident Address_lower, Length: 51602, dtype: int64"
      ]
     },
     "execution_count": 47,
     "metadata": {},
     "output_type": "execute_result"
    }
   ],
   "source": [
    "# Try to convert all the strings in a column to lower or upper case. \n",
    "df['Incident Address'].value_counts(dropna=False)\n",
    "df['Incident Address_lower'] = df['Incident Address'].str.lower()\n",
    "df['Incident Address_lower'].value_counts(dropna=False)"
   ]
  }
 ],
 "metadata": {
  "kernelspec": {
   "display_name": "Python 3",
   "language": "python",
   "name": "python3"
  },
  "language_info": {
   "codemirror_mode": {
    "name": "ipython",
    "version": 3
   },
   "file_extension": ".py",
   "mimetype": "text/x-python",
   "name": "python",
   "nbconvert_exporter": "python",
   "pygments_lexer": "ipython3",
   "version": "3.8.8"
  }
 },
 "nbformat": 4,
 "nbformat_minor": 5
}
